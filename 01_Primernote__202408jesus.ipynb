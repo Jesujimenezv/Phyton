{
 "cells": [
  {
   "cell_type": "code",
   "execution_count": 12,
   "metadata": {},
   "outputs": [
    {
     "data": {
      "text/plain": [
       "int"
      ]
     },
     "execution_count": 12,
     "metadata": {},
     "output_type": "execute_result"
    }
   ],
   "source": [
    "x = 1\n",
    "type(x)"
   ]
  },
  {
   "cell_type": "code",
   "execution_count": 13,
   "metadata": {},
   "outputs": [
    {
     "name": "stdout",
     "output_type": "stream",
     "text": [
      "1\n"
     ]
    }
   ],
   "source": [
    "print(x)\n"
   ]
  },
  {
   "cell_type": "code",
   "execution_count": 11,
   "metadata": {},
   "outputs": [
    {
     "name": "stdout",
     "output_type": "stream",
     "text": [
      "hola mundo\n"
     ]
    }
   ],
   "source": [
    "x=\"hola mundo\"\n",
    "print(x)"
   ]
  },
  {
   "cell_type": "code",
   "execution_count": 6,
   "metadata": {},
   "outputs": [
    {
     "name": "stdout",
     "output_type": "stream",
     "text": [
      "[1, 2, 3] [1, 2, 3]\n"
     ]
    }
   ],
   "source": [
    "x = [1,2,3]\n",
    "y = x\n",
    "print(y,x)"
   ]
  },
  {
   "cell_type": "code",
   "execution_count": 7,
   "metadata": {},
   "outputs": [
    {
     "name": "stdout",
     "output_type": "stream",
     "text": [
      "[1, 2, 3, 4]\n"
     ]
    }
   ],
   "source": [
    "x.append(4)\n",
    "print(y)"
   ]
  },
  {
   "cell_type": "code",
   "execution_count": 22,
   "metadata": {},
   "outputs": [
    {
     "name": "stdout",
     "output_type": "stream",
     "text": [
      "5 [1, 2, 3, 4]\n"
     ]
    }
   ],
   "source": [
    "x=5\n",
    "print(x,y)"
   ]
  },
  {
   "cell_type": "code",
   "execution_count": 25,
   "metadata": {},
   "outputs": [],
   "source": [
    "# Estamso explorando datos simples\n",
    "\n",
    "dato_num = 8\n",
    "dato_float = 10.22\n",
    "dato_booleano_1 = True\n",
    "dato_booleano_2 = False\n",
    "dato_string = \"SOY JESUS\"\n"
   ]
  },
  {
   "cell_type": "code",
   "execution_count": 27,
   "metadata": {},
   "outputs": [
    {
     "name": "stdout",
     "output_type": "stream",
     "text": [
      "8\n",
      "<class 'int'>\n"
     ]
    }
   ],
   "source": [
    "print(dato_num)\n",
    "print(type(dato_num))"
   ]
  },
  {
   "cell_type": "code",
   "execution_count": 30,
   "metadata": {},
   "outputs": [
    {
     "name": "stdout",
     "output_type": "stream",
     "text": [
      "10.22\n",
      "<class 'float'>\n"
     ]
    }
   ],
   "source": [
    "print(dato_float)\n",
    "print(type(dato_float))"
   ]
  },
  {
   "cell_type": "code",
   "execution_count": 33,
   "metadata": {},
   "outputs": [
    {
     "name": "stdout",
     "output_type": "stream",
     "text": [
      "LOS DATOS SON\n",
      "True False\n",
      "\n",
      "LOS TIPOS DE DATOS SON\n",
      "<class 'bool'> <class 'bool'>\n"
     ]
    }
   ],
   "source": [
    "print(\"LOS DATOS SON\")\n",
    "print(dato_booleano_1,dato_booleano_2)\n",
    "print(\"\")\n",
    "print(\"LOS TIPOS DE DATOS SON\")\n",
    "print(type(dato_booleano_1),type(dato_booleano_2))"
   ]
  },
  {
   "cell_type": "code",
   "execution_count": 35,
   "metadata": {},
   "outputs": [
    {
     "name": "stdout",
     "output_type": "stream",
     "text": [
      "LOS DATOS SON\n",
      "SOY JESUS\n",
      "\n",
      "LOS TIPOS DE DATOS SON\n",
      "<class 'str'>\n"
     ]
    }
   ],
   "source": [
    "print(\"LOS DATOS SON\")\n",
    "print(dato_string)\n",
    "print(\"\")\n",
    "print(\"LOS TIPOS DE DATOS SON\")\n",
    "print(type(dato_string))"
   ]
  },
  {
   "cell_type": "code",
   "execution_count": 37,
   "metadata": {},
   "outputs": [],
   "source": [
    "#VAMOS A EXPLORAR DATOS ESTRUCTURADOS\n",
    "persona = {\"nombre\" : \"Jesus\",\"edad\":18,\"profesion\":\"Analista\"}"
   ]
  },
  {
   "cell_type": "code",
   "execution_count": 43,
   "metadata": {},
   "outputs": [
    {
     "name": "stdout",
     "output_type": "stream",
     "text": [
      "Jesus\n"
     ]
    },
    {
     "data": {
      "text/plain": [
       "dict"
      ]
     },
     "execution_count": 43,
     "metadata": {},
     "output_type": "execute_result"
    }
   ],
   "source": [
    "print(persona[\"nombre\"])\n",
    "type(persona)"
   ]
  },
  {
   "cell_type": "code",
   "execution_count": 45,
   "metadata": {},
   "outputs": [
    {
     "name": "stdout",
     "output_type": "stream",
     "text": [
      "[1, 2, 3, 'cuatro', 5.05, 'hola']\n"
     ]
    }
   ],
   "source": [
    "#LISTAS\n",
    "mi_lista=[1,2,3,\"cuatro\",5.05,\"hola\"]\n",
    "print(mi_lista)"
   ]
  },
  {
   "cell_type": "code",
   "execution_count": 49,
   "metadata": {},
   "outputs": [
    {
     "name": "stdout",
     "output_type": "stream",
     "text": [
      "cuatro\n"
     ]
    }
   ],
   "source": [
    "print(mi_lista[3])"
   ]
  },
  {
   "cell_type": "code",
   "execution_count": 51,
   "metadata": {},
   "outputs": [
    {
     "name": "stdout",
     "output_type": "stream",
     "text": [
      "hola\n"
     ]
    }
   ],
   "source": [
    "print(mi_lista[-1])"
   ]
  },
  {
   "cell_type": "code",
   "execution_count": 55,
   "metadata": {},
   "outputs": [
    {
     "data": {
      "text/plain": [
       "6"
      ]
     },
     "execution_count": 55,
     "metadata": {},
     "output_type": "execute_result"
    }
   ],
   "source": [
    "#CANTIDAD DE ELEMENTOS QUE TIENE MI LISTA\n",
    "len(mi_lista)"
   ]
  },
  {
   "cell_type": "code",
   "execution_count": 58,
   "metadata": {},
   "outputs": [
    {
     "name": "stdout",
     "output_type": "stream",
     "text": [
      "[1, 2, 3, 'cambiado', 5.05, 'hola']\n"
     ]
    }
   ],
   "source": [
    "#MODIFICAR UN ELEMENTO DE MI LISTA\n",
    "mi_lista[3]='cambiado'\n",
    "print(mi_lista)"
   ]
  },
  {
   "cell_type": "markdown",
   "metadata": {},
   "source": [
    "# Estructuras de control\n",
    "En este apartado vamos a aprender estructuras de control.\n",
    "* **FOR**\n",
    "* **WHILE**\n",
    "* **IF**"
   ]
  },
  {
   "cell_type": "code",
   "execution_count": 60,
   "metadata": {},
   "outputs": [
    {
     "data": {
      "text/plain": [
       "range"
      ]
     },
     "execution_count": 60,
     "metadata": {},
     "output_type": "execute_result"
    }
   ],
   "source": [
    "# FOR\n",
    "rango= range(1,10)\n",
    "type(rango)"
   ]
  },
  {
   "cell_type": "code",
   "execution_count": 62,
   "metadata": {},
   "outputs": [
    {
     "name": "stdout",
     "output_type": "stream",
     "text": [
      "primer elemento 1\n",
      "ultimo elemento 9\n"
     ]
    }
   ],
   "source": [
    "# EXPLOREMOS QUE ELEMENTOS TIENEN\n",
    "print('primer elemento',rango[0])\n",
    "print('ultimo elemento',rango[-1])"
   ]
  },
  {
   "cell_type": "code",
   "execution_count": 72,
   "metadata": {},
   "outputs": [
    {
     "name": "stdout",
     "output_type": "stream",
     "text": [
      "2 2\n",
      "3 6\n",
      "4 12\n",
      "5 20\n",
      "6 30\n",
      "7 42\n",
      "8 56\n",
      "9 72\n",
      "10 90\n"
     ]
    }
   ],
   "source": [
    "#PROGRAMEMOS EL BUCLE\n",
    "for i in rango:\n",
    "    a = i + 1\n",
    "    b = a * i\n",
    "    print(a,b)\n"
   ]
  },
  {
   "cell_type": "code",
   "execution_count": 74,
   "metadata": {},
   "outputs": [
    {
     "name": "stdout",
     "output_type": "stream",
     "text": [
      "4\n",
      "4\n",
      "4\n",
      "4\n",
      "4\n",
      "4\n",
      "4\n",
      "4\n",
      "4\n"
     ]
    }
   ],
   "source": [
    "#PROGRAMEMOS EL BUCLE SIN SENTIDO\n",
    "for i in rango:\n",
    "    a = 2 + 2\n",
    "    print(a)\n"
   ]
  },
  {
   "cell_type": "code",
   "execution_count": 76,
   "metadata": {},
   "outputs": [
    {
     "name": "stdout",
     "output_type": "stream",
     "text": [
      "1\n",
      "2\n",
      "3\n",
      "cambiado\n",
      "5.05\n",
      "hola\n"
     ]
    }
   ],
   "source": [
    "# RECORRER UNA LISTA\n",
    "for i in mi_lista:\n",
    "    print(i)"
   ]
  },
  {
   "cell_type": "code",
   "execution_count": 82,
   "metadata": {},
   "outputs": [
    {
     "name": "stdout",
     "output_type": "stream",
     "text": [
      "1\n",
      "2\n",
      "3\n",
      "4\n",
      "5\n",
      "6\n",
      "7\n",
      "8\n",
      "9\n",
      "10\n"
     ]
    }
   ],
   "source": [
    "# WHILE\n",
    "s = 1\n",
    "while s <= 10:\n",
    "    print(s)\n",
    "    s=s+1"
   ]
  },
  {
   "cell_type": "code",
   "execution_count": 85,
   "metadata": {},
   "outputs": [
    {
     "name": "stdout",
     "output_type": "stream",
     "text": [
      "Es mayor o igual a 9\n"
     ]
    }
   ],
   "source": [
    "# IF\n",
    "prueba = 10\n",
    "if prueba <= 5:\n",
    "    print('Es menor a 5')\n",
    "elif prueba <9:\n",
    "    print('Es menor a 9')\n",
    "else:\n",
    "    print('Es mayor o igual a 9')\n",
    "\n"
   ]
  },
  {
   "cell_type": "code",
   "execution_count": 90,
   "metadata": {},
   "outputs": [
    {
     "name": "stdout",
     "output_type": "stream",
     "text": [
      "primer grupo 1\n",
      "primer grupo 2\n",
      "primer grupo 3\n",
      "primer grupo 4\n",
      "otra cosa 2\n",
      "otra cosa 2\n",
      "final 49\n",
      "final 64\n",
      "final 81\n"
     ]
    }
   ],
   "source": [
    "# FOR + IF\n",
    "for i in rango:\n",
    "    if i <= 4:\n",
    "        print('primer grupo',i)\n",
    "    elif i <= 6:\n",
    "        print('otra cosa',1*2)\n",
    "    else:\n",
    "        print('final',i**2)\n"
   ]
  },
  {
   "cell_type": "code",
   "execution_count": 93,
   "metadata": {},
   "outputs": [
    {
     "name": "stdout",
     "output_type": "stream",
     "text": [
      "['lunes', 'martes', 'miercoles', 'jueves', 'viernes', 'sabado', 'domingo']\n"
     ]
    }
   ],
   "source": [
    "dias=['lunes','martes','miercoles','jueves','viernes','sabado','domingo']\n",
    "print(dias)"
   ]
  },
  {
   "cell_type": "code",
   "execution_count": 95,
   "metadata": {},
   "outputs": [
    {
     "name": "stdout",
     "output_type": "stream",
     "text": [
      "['lunes', 'martes', 'miercoles', 'jueves', 'viernes', 'sabado', 'domingo'] [200, 225, 232, 221, 243, 256, 255]\n"
     ]
    }
   ],
   "source": [
    "valores = [200,225,232,221,243,256,255]\n",
    "print(dias,valores)"
   ]
  },
  {
   "cell_type": "code",
   "execution_count": 101,
   "metadata": {},
   "outputs": [
    {
     "name": "stdout",
     "output_type": "stream",
     "text": [
      "Días en los que el precio bajó: ['jueves', 'domingo']\n"
     ]
    }
   ],
   "source": [
    "# Definir las listas\n",
    "dias = [\"lunes\", \"martes\", \"miércoles\", \"jueves\", \"viernes\", \"sábado\", \"domingo\"]\n",
    "precios = [200, 225, 232, 221, 243, 256, 255]\n",
    "\n",
    "# Encontrar los días donde el precio bajó\n",
    "dias_bajada = [dias[i] for i in range(1, len(precios)) if precios[i] < precios[i-1]]\n",
    "\n",
    "print(\"Días en los que el precio bajó:\",dias_bajada)"
   ]
  },
  {
   "cell_type": "markdown",
   "metadata": {},
   "source": [
    "# FUNCIONES\n",
    "Vamos a armar nuestras primeras funciones\n"
   ]
  },
  {
   "cell_type": "code",
   "execution_count": 103,
   "metadata": {},
   "outputs": [],
   "source": [
    "def mi_funcion(argumento_1,argumento_2):\n",
    "    resultado_1=argumento_1*2\n",
    "    resultado_2= argumento_2 / 3\n",
    "    resutado_final= resultado_1-resultado_2\n",
    "    return resutado_final\n"
   ]
  },
  {
   "cell_type": "code",
   "execution_count": 105,
   "metadata": {},
   "outputs": [
    {
     "data": {
      "text/plain": [
       "18.666666666666668"
      ]
     },
     "execution_count": 105,
     "metadata": {},
     "output_type": "execute_result"
    }
   ],
   "source": [
    "mi_funcion(argumento_1=10,argumento_2=4)"
   ]
  },
  {
   "cell_type": "code",
   "execution_count": 126,
   "metadata": {},
   "outputs": [],
   "source": [
    "def funcion_clasificadora(x):\n",
    "    if x <= 4:\n",
    "        resultado = 'primer grupo' + str(x)\n",
    "    elif   x <= 6:\n",
    "        resultado = 'otra cosa' +  str(x*2)\n",
    "    else:\n",
    "        resultado = 'final' +  str(x**2)\n",
    "    return resultado\n"
   ]
  },
  {
   "cell_type": "code",
   "execution_count": 127,
   "metadata": {},
   "outputs": [
    {
     "data": {
      "text/plain": [
       "'otra cosa10'"
      ]
     },
     "execution_count": 127,
     "metadata": {},
     "output_type": "execute_result"
    }
   ],
   "source": [
    "funcion_clasificadora(5)"
   ]
  },
  {
   "cell_type": "code",
   "execution_count": 128,
   "metadata": {},
   "outputs": [
    {
     "name": "stdout",
     "output_type": "stream",
     "text": [
      "primer grupo1\n",
      "primer grupo2\n",
      "primer grupo3\n",
      "primer grupo4\n",
      "otra cosa10\n",
      "otra cosa12\n",
      "final49\n",
      "final64\n",
      "final81\n"
     ]
    }
   ],
   "source": [
    "for i in rango:\n",
    "    print(funcion_clasificadora(i))"
   ]
  },
  {
   "cell_type": "code",
   "execution_count": null,
   "metadata": {},
   "outputs": [],
   "source": []
  }
 ],
 "metadata": {
  "kernelspec": {
   "display_name": "Python 3",
   "language": "python",
   "name": "python3"
  },
  "language_info": {
   "codemirror_mode": {
    "name": "ipython",
    "version": 3
   },
   "file_extension": ".py",
   "mimetype": "text/x-python",
   "name": "python",
   "nbconvert_exporter": "python",
   "pygments_lexer": "ipython3",
   "version": "3.11.9"
  }
 },
 "nbformat": 4,
 "nbformat_minor": 2
}
